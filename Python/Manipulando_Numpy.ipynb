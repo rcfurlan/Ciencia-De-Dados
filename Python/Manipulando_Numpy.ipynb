{
 "cells": [
  {
   "cell_type": "code",
   "execution_count": null,
   "metadata": {},
   "outputs": [],
   "source": [
    "\n",
    "# Numpy - Pacote para computação matematicas\n",
    "# - Oferece suporte para arrays e matrizes, além de funções matemáticas para operações com esses objetos\n",
    "# - Oferece um rapido e eficiente array multidimensional\n",
    "# - Ferramentas para leitura de datasets baseadas em array\n",
    "# - Operações de algebra linear\n",
    "# - Integração com C, C++ e FORTRAN\n",
    "# - Utilizado também como troca de mensagens entre algoritmos diferentes\n",
    "# - Em arrays Numpy todos os elementos devem ser do mesmo tipo e seu tamanho não pode ser modificado\n",
    "# - São a base para construção de muitos modelos de machine-learning em Python\n",
    "# - www.numpy.org\n"
   ]
  },
  {
   "cell_type": "code",
   "execution_count": 1,
   "metadata": {},
   "outputs": [],
   "source": [
    "import numpy as np"
   ]
  },
  {
   "cell_type": "code",
   "execution_count": 2,
   "metadata": {},
   "outputs": [
    {
     "data": {
      "text/plain": [
       "array([1, 2, 3, 4, 5])"
      ]
     },
     "execution_count": 2,
     "metadata": {},
     "output_type": "execute_result"
    }
   ],
   "source": [
    "array_np = np.array([1,2,3,4,5])\n",
    "array_np"
   ]
  },
  {
   "cell_type": "code",
   "execution_count": null,
   "metadata": {},
   "outputs": [],
   "source": []
  }
 ],
 "metadata": {
  "kernelspec": {
   "display_name": "Python 3",
   "language": "python",
   "name": "python3"
  },
  "language_info": {
   "codemirror_mode": {
    "name": "ipython",
    "version": 3
   },
   "file_extension": ".py",
   "mimetype": "text/x-python",
   "name": "python",
   "nbconvert_exporter": "python",
   "pygments_lexer": "ipython3",
   "version": "3.7.3"
  }
 },
 "nbformat": 4,
 "nbformat_minor": 2
}
