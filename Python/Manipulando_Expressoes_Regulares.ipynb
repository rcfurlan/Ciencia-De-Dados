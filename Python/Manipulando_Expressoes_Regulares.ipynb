{
 "cells": [
  {
   "cell_type": "markdown",
   "metadata": {},
   "source": [
    "Expressões Regulares"
   ]
  },
  {
   "cell_type": "code",
   "execution_count": 2,
   "metadata": {},
   "outputs": [],
   "source": [
    "\n",
    "# https://docs.python.org/3/howto/regex.html\n",
    "\n",
    "# Expressões regulares (chamadas REs, ou expressões regulares ou padrões de expressões regulares) são essencialmente uma \n",
    "# pequena linguagem de programação altamente especializada incorporada no Python e disponibilizada através do remódulo. Usando \n",
    "# esta pequena linguagem, você especifica as regras para o conjunto de possíveis strings que deseja corresponder; esse conjunto \n",
    "# pode conter frases em inglês, endereços de e-mail ou comandos do TeX ou qualquer coisa que você desejar. Você pode fazer \n",
    "# perguntas como “Essa sequência corresponde ao padrão?” Ou “Existe uma correspondência para o padrão em algum lugar dessa \n",
    "# sequência?”. Você também pode usar REs para modificar uma sequência ou dividi-la de várias maneiras.\n",
    "\n",
    "# A linguagem de expressão regular é relativamente pequena e restrita; portanto, nem todas as tarefas possíveis de processamento\n",
    "# de cadeia podem ser executadas usando expressões regulares. Também existem tarefas que podem ser realizadas com expressões \n",
    "# regulares, mas as expressões acabam sendo muito complicadas. Nesses casos, é melhor escrever código Python para fazer o \n",
    "# processamento; embora o código Python seja mais lento que uma expressão regular elaborada, provavelmente também será mais \n",
    "# compreensível.\n",
    "\n",
    "import re"
   ]
  },
  {
   "cell_type": "code",
   "execution_count": null,
   "metadata": {},
   "outputs": [],
   "source": []
  }
 ],
 "metadata": {
  "kernelspec": {
   "display_name": "Python 3",
   "language": "python",
   "name": "python3"
  },
  "language_info": {
   "codemirror_mode": {
    "name": "ipython",
    "version": 3
   },
   "file_extension": ".py",
   "mimetype": "text/x-python",
   "name": "python",
   "nbconvert_exporter": "python",
   "pygments_lexer": "ipython3",
   "version": "3.7.3"
  }
 },
 "nbformat": 4,
 "nbformat_minor": 2
}
