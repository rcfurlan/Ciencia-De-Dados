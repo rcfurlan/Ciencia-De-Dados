{
 "cells": [
  {
   "cell_type": "markdown",
   "metadata": {},
   "source": [
    "Estruturas de dados Built-In"
   ]
  },
  {
   "cell_type": "code",
   "execution_count": 26,
   "metadata": {},
   "outputs": [],
   "source": [
    "\n",
    "# Tuplas - Sequencias Imutáveis de Objetos\n"
   ]
  },
  {
   "cell_type": "code",
   "execution_count": 16,
   "metadata": {},
   "outputs": [
    {
     "name": "stdout",
     "output_type": "stream",
     "text": [
      "(1, 2, 3)\n",
      "(1, 2, 3)\n",
      "(1, 2, 3)\n"
     ]
    }
   ],
   "source": [
    "tupla = 1,2,3\n",
    "print(tupla)\n",
    "tupla = (1,2,3)\n",
    "print(tupla)\n",
    "tupla = tuple([1,2,3])\n",
    "print(tupla)"
   ]
  },
  {
   "cell_type": "code",
   "execution_count": 6,
   "metadata": {},
   "outputs": [
    {
     "ename": "TypeError",
     "evalue": "'tuple' object does not support item assignment",
     "output_type": "error",
     "traceback": [
      "\u001b[1;31m---------------------------------------------------------------------------\u001b[0m",
      "\u001b[1;31mTypeError\u001b[0m                                 Traceback (most recent call last)",
      "\u001b[1;32m<ipython-input-6-63912eb62050>\u001b[0m in \u001b[0;36m<module>\u001b[1;34m\u001b[0m\n\u001b[1;32m----> 1\u001b[1;33m \u001b[0mtupla\u001b[0m\u001b[1;33m[\u001b[0m\u001b[1;36m0\u001b[0m\u001b[1;33m]\u001b[0m \u001b[1;33m=\u001b[0m \u001b[1;36m2\u001b[0m\u001b[1;33m\u001b[0m\u001b[1;33m\u001b[0m\u001b[0m\n\u001b[0m",
      "\u001b[1;31mTypeError\u001b[0m: 'tuple' object does not support item assignment"
     ]
    }
   ],
   "source": [
    "tupla[0] = 2"
   ]
  },
  {
   "cell_type": "code",
   "execution_count": 7,
   "metadata": {},
   "outputs": [
    {
     "data": {
      "text/plain": [
       "1"
      ]
     },
     "execution_count": 7,
     "metadata": {},
     "output_type": "execute_result"
    }
   ],
   "source": [
    "tupla.count(3)"
   ]
  },
  {
   "cell_type": "code",
   "execution_count": 8,
   "metadata": {},
   "outputs": [
    {
     "data": {
      "text/plain": [
       "3"
      ]
     },
     "execution_count": 8,
     "metadata": {},
     "output_type": "execute_result"
    }
   ],
   "source": [
    "len(tupla)"
   ]
  },
  {
   "cell_type": "code",
   "execution_count": 9,
   "metadata": {},
   "outputs": [
    {
     "data": {
      "text/plain": [
       "(1, 2, 3, 1, 2, 3, 1, 2, 3)"
      ]
     },
     "execution_count": 9,
     "metadata": {},
     "output_type": "execute_result"
    }
   ],
   "source": [
    "tupla * 3"
   ]
  },
  {
   "cell_type": "code",
   "execution_count": 10,
   "metadata": {},
   "outputs": [
    {
     "data": {
      "text/plain": [
       "(1, 2, 3, 4, 5, 6)"
      ]
     },
     "execution_count": 10,
     "metadata": {},
     "output_type": "execute_result"
    }
   ],
   "source": [
    "tupla2 = 4,5,6\n",
    "tupla + tupla2"
   ]
  },
  {
   "cell_type": "code",
   "execution_count": 17,
   "metadata": {
    "scrolled": true
   },
   "outputs": [
    {
     "name": "stdout",
     "output_type": "stream",
     "text": [
      "a:1 b:2 c:3\n",
      "a:1 b:2 c:[3, 4, 5, 6]\n"
     ]
    }
   ],
   "source": [
    "# Desenpacotamento\n",
    "a,b,c = tupla\n",
    "print('a:{} b:{} c:{}'.format(a,b,c))\n",
    "\n",
    "a,b,*_ = tupla + tupla2\n",
    "print('a:{} b:{} c:{}'.format(a,b,_))"
   ]
  },
  {
   "cell_type": "code",
   "execution_count": 12,
   "metadata": {},
   "outputs": [
    {
     "name": "stdout",
     "output_type": "stream",
     "text": [
      "1\n",
      "2\n",
      "3\n"
     ]
    }
   ],
   "source": [
    "for item in tupla:\n",
    "    print(item)"
   ]
  },
  {
   "cell_type": "code",
   "execution_count": 13,
   "metadata": {},
   "outputs": [
    {
     "data": {
      "text/plain": [
       "0"
      ]
     },
     "execution_count": 13,
     "metadata": {},
     "output_type": "execute_result"
    }
   ],
   "source": [
    "tupla.index(1)"
   ]
  },
  {
   "cell_type": "code",
   "execution_count": 20,
   "metadata": {},
   "outputs": [
    {
     "name": "stdout",
     "output_type": "stream",
     "text": [
      "(1, 2)\n"
     ]
    }
   ],
   "source": [
    "print(tupla[0:2])"
   ]
  },
  {
   "cell_type": "code",
   "execution_count": 21,
   "metadata": {},
   "outputs": [
    {
     "name": "stdout",
     "output_type": "stream",
     "text": [
      "('p', 'a', 'l', 'a', 'v', 'r', 'a')\n"
     ]
    }
   ],
   "source": [
    "tupla = tuple('palavra')\n",
    "print(tupla)"
   ]
  },
  {
   "cell_type": "code",
   "execution_count": 37,
   "metadata": {},
   "outputs": [],
   "source": [
    "\n",
    "# Conjuntos - É uma estrutura de dados equivalente a conjuntos em matemática. Pode consistir em vários elementos; a ordem dos \n",
    "# elementos em um conjunto é indefinida. Você pode adicionar e excluir elementos de um conjunto, você pode iterar os elementos \n",
    "# do conjunto, você pode realizar operações padrão em conjuntos (união, intersecção, diferença). Além disso, você pode verificar\n",
    "# se um elemento pertence a um conjunto.\n"
   ]
  },
  {
   "cell_type": "code",
   "execution_count": 43,
   "metadata": {},
   "outputs": [
    {
     "name": "stdout",
     "output_type": "stream",
     "text": [
      "{1, 2, 3}\n",
      "{1, 2, 3}\n",
      "{'y', 'n', 'P', 'o', 't', 'h'}\n"
     ]
    }
   ],
   "source": [
    "conj = {1,2,3}\n",
    "print(conj)\n",
    "conj = set([1,2,3])\n",
    "print(conj)\n",
    "conj = set('Python')\n",
    "print(conj)"
   ]
  },
  {
   "cell_type": "code",
   "execution_count": 44,
   "metadata": {},
   "outputs": [
    {
     "data": {
      "text/plain": [
       "True"
      ]
     },
     "execution_count": 44,
     "metadata": {},
     "output_type": "execute_result"
    }
   ],
   "source": [
    "conj1 = {1,2,3}\n",
    "conj2 = {1,2,2,2,3,1}\n",
    "conj1 == conj2"
   ]
  },
  {
   "cell_type": "code",
   "execution_count": 45,
   "metadata": {},
   "outputs": [
    {
     "data": {
      "text/plain": [
       "True"
      ]
     },
     "execution_count": 45,
     "metadata": {},
     "output_type": "execute_result"
    }
   ],
   "source": [
    "1 in conj1"
   ]
  },
  {
   "cell_type": "code",
   "execution_count": 46,
   "metadata": {},
   "outputs": [
    {
     "name": "stdout",
     "output_type": "stream",
     "text": [
      "{1, 2}\n"
     ]
    },
    {
     "ename": "KeyError",
     "evalue": "3",
     "output_type": "error",
     "traceback": [
      "\u001b[1;31m---------------------------------------------------------------------------\u001b[0m",
      "\u001b[1;31mKeyError\u001b[0m                                  Traceback (most recent call last)",
      "\u001b[1;32m<ipython-input-46-f07e60be7ccb>\u001b[0m in \u001b[0;36m<module>\u001b[1;34m\u001b[0m\n\u001b[0;32m      1\u001b[0m \u001b[0mconj1\u001b[0m\u001b[1;33m.\u001b[0m\u001b[0mremove\u001b[0m\u001b[1;33m(\u001b[0m\u001b[1;36m3\u001b[0m\u001b[1;33m)\u001b[0m\u001b[1;33m\u001b[0m\u001b[1;33m\u001b[0m\u001b[0m\n\u001b[0;32m      2\u001b[0m \u001b[0mprint\u001b[0m\u001b[1;33m(\u001b[0m\u001b[0mconj1\u001b[0m\u001b[1;33m)\u001b[0m\u001b[1;33m\u001b[0m\u001b[1;33m\u001b[0m\u001b[0m\n\u001b[1;32m----> 3\u001b[1;33m \u001b[0mconj1\u001b[0m\u001b[1;33m.\u001b[0m\u001b[0mremove\u001b[0m\u001b[1;33m(\u001b[0m\u001b[1;36m3\u001b[0m\u001b[1;33m)\u001b[0m\u001b[1;33m\u001b[0m\u001b[1;33m\u001b[0m\u001b[0m\n\u001b[0m\u001b[0;32m      4\u001b[0m \u001b[0mprint\u001b[0m\u001b[1;33m(\u001b[0m\u001b[0mconj1\u001b[0m\u001b[1;33m)\u001b[0m\u001b[1;33m\u001b[0m\u001b[1;33m\u001b[0m\u001b[0m\n",
      "\u001b[1;31mKeyError\u001b[0m: 3"
     ]
    }
   ],
   "source": [
    "conj1.remove(3)\n",
    "print(conj1)\n",
    "conj1.remove(3)\n",
    "print(conj1)"
   ]
  },
  {
   "cell_type": "code",
   "execution_count": 47,
   "metadata": {},
   "outputs": [
    {
     "name": "stdout",
     "output_type": "stream",
     "text": [
      "{1}\n",
      "{1}\n"
     ]
    }
   ],
   "source": [
    "conj1.discard(2)\n",
    "print(conj1)\n",
    "conj1.discard(2)\n",
    "print(conj1)"
   ]
  },
  {
   "cell_type": "code",
   "execution_count": null,
   "metadata": {},
   "outputs": [],
   "source": [
    "\n",
    "# Retorna um conjunto que é a união dos conjuntos A e B\n",
    "# A | B ou A.union(B)\n",
    "\n",
    "# Adiciona todos os elementos da matriz B ao conjunto A\n",
    "# A |= B ou A.update(B)\n",
    "\n",
    "# Retorna um conjunto que é a interseção dos conjuntos A e B\n",
    "# A & B ou A.intersection(B)\n",
    "\n",
    "# Deixa no conjunto A apenas os itens que pertencem ao conjunto B\n",
    "# A &= B ou A.intersection_update(B)\n",
    "\n",
    "# Retorna a diferença definida de A e B ( os elementos incluídos em A, mas não incluídos em B )\n",
    "# A - B ou A.difference(B)\n",
    "\n",
    "# Remove todos os elementos de B a partir do conjunto A\n",
    "# A -= B ou A.difference_update (B)\n",
    "\n",
    "# Retorna a diferença simétrica dos conjuntos A e B (os elementos pertencentes a A ou B, mas não a ambos os conjuntos \n",
    "# simultaneamente)\n",
    "# A ^ B ou A.symmetric_difference(B)\n",
    "\n",
    "# Escreve em A a diferença simétrica dos conjuntos A e B\n",
    "# A ^= B ou A.symmetric_difference_update(B)\n",
    "\n",
    "# Retorna true se A é um subconjunto de B\n",
    "# A <= B ou A.subset(B)\n",
    "\n",
    "# Retorna true se B é um subconjunto de A\n",
    "# A >= B ou A.issuperset(B)\n",
    "\n",
    "# Equivalente a A <= B and A != B\n",
    "# A < B\n",
    "\n",
    "# Equivalente a A >= B and A != B\n",
    "# A > B\n"
   ]
  },
  {
   "cell_type": "code",
   "execution_count": 27,
   "metadata": {},
   "outputs": [],
   "source": [
    "\n",
    "# Listas - Sequências Mutáveis de Tamanho Variável\n"
   ]
  },
  {
   "cell_type": "code",
   "execution_count": 17,
   "metadata": {},
   "outputs": [
    {
     "name": "stdout",
     "output_type": "stream",
     "text": [
      "[1, 2, 3]\n",
      "[1, 2, 3]\n",
      "['1', '2', '3']\n"
     ]
    }
   ],
   "source": [
    "lista = [1,2,3]\n",
    "print(lista)\n",
    "lista = list(tupla)\n",
    "print(lista)\n",
    "lista = list('123')\n",
    "print(lista)"
   ]
  },
  {
   "cell_type": "code",
   "execution_count": 28,
   "metadata": {},
   "outputs": [
    {
     "data": {
      "text/plain": [
       "'1'"
      ]
     },
     "execution_count": 28,
     "metadata": {},
     "output_type": "execute_result"
    }
   ],
   "source": [
    "lista[0]"
   ]
  },
  {
   "cell_type": "code",
   "execution_count": 29,
   "metadata": {},
   "outputs": [
    {
     "data": {
      "text/plain": [
       "['1', '2']"
      ]
     },
     "execution_count": 29,
     "metadata": {},
     "output_type": "execute_result"
    }
   ],
   "source": [
    "lista[0:2]"
   ]
  },
  {
   "cell_type": "code",
   "execution_count": 19,
   "metadata": {},
   "outputs": [
    {
     "data": {
      "text/plain": [
       "[1, 2, 3, 4, 5, 6]"
      ]
     },
     "execution_count": 19,
     "metadata": {},
     "output_type": "execute_result"
    }
   ],
   "source": [
    "lista1 = [1,2,3]\n",
    "lista2 = [4,5,6]\n",
    "lista1 + lista2"
   ]
  },
  {
   "cell_type": "code",
   "execution_count": 31,
   "metadata": {},
   "outputs": [
    {
     "data": {
      "text/plain": [
       "[1, 2, 3, 1, 2, 3, 1, 2, 3, 1, 2, 3, 1, 2, 3]"
      ]
     },
     "execution_count": 31,
     "metadata": {},
     "output_type": "execute_result"
    }
   ],
   "source": [
    "lista1 * 5"
   ]
  },
  {
   "cell_type": "code",
   "execution_count": 34,
   "metadata": {},
   "outputs": [
    {
     "data": {
      "text/plain": [
       "15"
      ]
     },
     "execution_count": 34,
     "metadata": {},
     "output_type": "execute_result"
    }
   ],
   "source": [
    "len(lista1 * 5)"
   ]
  },
  {
   "cell_type": "code",
   "execution_count": 33,
   "metadata": {},
   "outputs": [
    {
     "data": {
      "text/plain": [
       "5"
      ]
     },
     "execution_count": 33,
     "metadata": {},
     "output_type": "execute_result"
    }
   ],
   "source": [
    "(lista1 * 5).count(1)"
   ]
  },
  {
   "cell_type": "code",
   "execution_count": 20,
   "metadata": {},
   "outputs": [
    {
     "name": "stdout",
     "output_type": "stream",
     "text": [
      "[1, 2, 3, 4]\n",
      "[1, 2, 3]\n",
      "[1, 2, 3, 4]\n"
     ]
    }
   ],
   "source": [
    "lista1.append(4) # objeto\n",
    "print(lista1)\n",
    "\n",
    "del lista1[3] # indice\n",
    "print(lista1)\n",
    "\n",
    "lista1.append(4) # objeto\n",
    "print(lista1)"
   ]
  },
  {
   "cell_type": "code",
   "execution_count": 36,
   "metadata": {},
   "outputs": [
    {
     "data": {
      "text/plain": [
       "3"
      ]
     },
     "execution_count": 36,
     "metadata": {},
     "output_type": "execute_result"
    }
   ],
   "source": [
    "lista1.index(4)"
   ]
  },
  {
   "cell_type": "code",
   "execution_count": 4,
   "metadata": {},
   "outputs": [
    {
     "name": "stdout",
     "output_type": "stream",
     "text": [
      "[1, 2, 3, 4, 6]\n",
      "[1, 2, 3, 4, 5, 6]\n"
     ]
    }
   ],
   "source": [
    "lista1.append(6)\n",
    "print(lista1)\n",
    "lista1.insert(4,5)     # (Posicao,Valor)\n",
    "print(lista1)\n",
    "# Insert é custosa do ponto de vista de processamento, se comparada com append, pois as referências aos elementos subsequentes \n",
    "# têm que ser deslocadas internamente a fim de criar espaço para o novo elemento. Se precisar inserir elementos tanto no inicio\n",
    "# quanto no final de um sequência, talvez você queira explorar collections.deque, uma fila de dupla extremidade para esse\n",
    "# propósito."
   ]
  },
  {
   "cell_type": "code",
   "execution_count": 5,
   "metadata": {},
   "outputs": [
    {
     "name": "stdout",
     "output_type": "stream",
     "text": [
      "[1, 2, 3, 4, 5]\n"
     ]
    }
   ],
   "source": [
    "lista1.pop(5)\n",
    "print(lista1)"
   ]
  },
  {
   "cell_type": "code",
   "execution_count": 6,
   "metadata": {},
   "outputs": [
    {
     "data": {
      "text/plain": [
       "True"
      ]
     },
     "execution_count": 6,
     "metadata": {},
     "output_type": "execute_result"
    }
   ],
   "source": [
    "5 in lista1\n",
    "# Verificar se uma lista contém um valor é muito mais lento do que fazer isso com dicionários e conjuntos, pois Python faz\n",
    "# uma verificação linear nos valores de lista, enquanto é capaz de verificar os outros tipos (com base em tabelas hash) em um\n",
    "# tempo constante."
   ]
  },
  {
   "cell_type": "code",
   "execution_count": 7,
   "metadata": {},
   "outputs": [
    {
     "data": {
      "text/plain": [
       "False"
      ]
     },
     "execution_count": 7,
     "metadata": {},
     "output_type": "execute_result"
    }
   ],
   "source": [
    "5 not in lista1"
   ]
  },
  {
   "cell_type": "code",
   "execution_count": 15,
   "metadata": {},
   "outputs": [
    {
     "data": {
      "text/plain": [
       "[1, 2, 3, 4, 5, 6, 7, 8, 9, 10]"
      ]
     },
     "execution_count": 15,
     "metadata": {},
     "output_type": "execute_result"
    }
   ],
   "source": [
    "lista1.extend([6,7,8,9,10])\n",
    "lista1\n",
    "# A concatenação de lista por adição é uma operação comparativamente custosa, pois uma nova lista deve ser criada e os objetos\n",
    "# devem ser copiados. Usar extend para concatenar elementos em uma lista existente, especialmente se você estiver construindo\n",
    "# uma lista grande, em geral é preferível."
   ]
  },
  {
   "cell_type": "code",
   "execution_count": 17,
   "metadata": {},
   "outputs": [
    {
     "name": "stdout",
     "output_type": "stream",
     "text": [
      "[4, 9, 77, 9, 45, 16, 33, 2, 1]\n",
      "[1, 2, 4, 9, 9, 16, 33, 45, 77]\n"
     ]
    }
   ],
   "source": [
    "lista3 = [4,9,77,9,45,16,33,2,1]\n",
    "print(lista3)\n",
    "lista3.sort()\n",
    "print(lista3)"
   ]
  },
  {
   "cell_type": "code",
   "execution_count": 18,
   "metadata": {},
   "outputs": [
    {
     "name": "stdout",
     "output_type": "stream",
     "text": [
      "['sa', 'small', 'firefox', 'crocodille', 'six']\n",
      "['sa', 'six', 'small', 'firefox', 'crocodille']\n"
     ]
    }
   ],
   "source": [
    "lista4 = ['sa','small','firefox','crocodille','six']\n",
    "print(lista4)\n",
    "lista4.sort(key=len)\n",
    "print(lista4)"
   ]
  },
  {
   "cell_type": "code",
   "execution_count": 8,
   "metadata": {},
   "outputs": [
    {
     "name": "stdout",
     "output_type": "stream",
     "text": [
      "[10, 20, 30]\n",
      "[]\n"
     ]
    }
   ],
   "source": [
    "lista5 = [10,20,30]\n",
    "print(lista5)\n",
    "lista5.clear()\n",
    "print(lista5)"
   ]
  },
  {
   "cell_type": "code",
   "execution_count": 34,
   "metadata": {},
   "outputs": [
    {
     "name": "stdout",
     "output_type": "stream",
     "text": [
      "[50, 40, 30, 20, 10]\n",
      "[10, 20, 30, 40, 50]\n"
     ]
    }
   ],
   "source": [
    "lista6 = [50,40,30,20,10]\n",
    "print(lista6)\n",
    "lista6.reverse()\n",
    "print(lista6)"
   ]
  },
  {
   "cell_type": "code",
   "execution_count": 2,
   "metadata": {},
   "outputs": [
    {
     "name": "stdout",
     "output_type": "stream",
     "text": [
      "6\n",
      "[1, 2, 2, 2, 3, 4, 5, 7]\n"
     ]
    }
   ],
   "source": [
    "# O modulo embutido bisect implementa a busca binaria e a inserção em uma lista ordenada. bisect.bisect encontra o local em que\n",
    "# um elemento deve ser inserido para manter a lista ordenada, enquanto bisect.insort insere o elemento nesse local.\n",
    "\n",
    "import bisect\n",
    "lista_o = [1,2,2,2,3,4,7]\n",
    "local_insere = bisect.bisect(lista_o,5)\n",
    "print(local_insere)\n",
    "bisect.insort(lista_o,5)\n",
    "print(lista_o)"
   ]
  },
  {
   "cell_type": "code",
   "execution_count": 3,
   "metadata": {},
   "outputs": [
    {
     "data": {
      "text/plain": [
       "[1, 2, 2, 2, -1, -1, 5, 7]"
      ]
     },
     "execution_count": 3,
     "metadata": {},
     "output_type": "execute_result"
    }
   ],
   "source": [
    "# Substitui um grupo de elementos\n",
    "lista_o[4:6] = [-1,-1]\n",
    "lista_o"
   ]
  },
  {
   "cell_type": "code",
   "execution_count": 4,
   "metadata": {},
   "outputs": [
    {
     "data": {
      "text/plain": [
       "[7, 5, -1, -1, 2, 2, 2, 1]"
      ]
     },
     "execution_count": 4,
     "metadata": {},
     "output_type": "execute_result"
    }
   ],
   "source": [
    "# Inverte a lista\n",
    "lista_o[::-1]"
   ]
  },
  {
   "cell_type": "code",
   "execution_count": 5,
   "metadata": {},
   "outputs": [
    {
     "name": "stdout",
     "output_type": "stream",
     "text": [
      "Valor item[0]: 1\n",
      "Valor item[1]: 2\n",
      "Valor item[2]: 2\n",
      "Valor item[3]: 2\n",
      "Valor item[4]: -1\n",
      "Valor item[5]: -1\n",
      "Valor item[6]: 5\n",
      "Valor item[7]: 7\n"
     ]
    }
   ],
   "source": [
    "# O objeto enumerate recebe uma sequencia e devolve uma tupla (sequenciador,elemento)\n",
    "\n",
    "for i, item in enumerate(lista_o):\n",
    "    print('Valor item[{}]: {}'.format(i,item))"
   ]
  },
  {
   "cell_type": "code",
   "execution_count": 8,
   "metadata": {},
   "outputs": [
    {
     "name": "stdout",
     "output_type": "stream",
     "text": [
      "<class 'zip'>\n",
      "[('P', 1), ('y', 2), ('t', 3), ('h', 4), ('o', 5), ('n', 6)]\n"
     ]
    }
   ],
   "source": [
    "# Zip - pareia os elementos de uma série de listas, tuplas ou outras sequências para criar uma lista de tuplas\n",
    "seq1 = list('Python')\n",
    "seq2 = list([1,2,3,4,5,6,7,8,9,10])\n",
    "zipar = zip(seq1,seq2)\n",
    "print(type(zipar))\n",
    "print(list(zipar))"
   ]
  },
  {
   "cell_type": "code",
   "execution_count": 36,
   "metadata": {},
   "outputs": [
    {
     "name": "stdout",
     "output_type": "stream",
     "text": [
      "['P', 'y', 't', 'h', 'o', 'n']\n",
      "[1, 4, 27, 256, 3125]\n"
     ]
    }
   ],
   "source": [
    "# List comprehension\n",
    "lista_comp1 = [x for x in 'Python']\n",
    "print(lista_comp1)\n",
    "lista_comp2 = [x ** x for x in [1,2,3,4,5]]\n",
    "print(lista_comp2)"
   ]
  },
  {
   "cell_type": "code",
   "execution_count": 23,
   "metadata": {},
   "outputs": [
    {
     "data": {
      "text/plain": [
       "{'A': 21, 'B': 16, 'C': 5, 'D': 3, 'E': 2, 'F': 2}"
      ]
     },
     "execution_count": 23,
     "metadata": {},
     "output_type": "execute_result"
    }
   ],
   "source": [
    "lista_c = ['A','A','A','A','A','A','A','A','A','A','A','A','A','A','A','A','A','A','A','A','A','B','B','B','B','B',\n",
    "           'B','B','B','B','B','B','B','B','B','B','B','C','C','C','D','D','C','C','D','E','E','F','F']\n",
    "\n",
    "MapReduce = {}\n",
    "\n",
    "for item in sorted(set(lista_c)):\n",
    "    MapReduce[item] = lista_c.count(item)\n",
    "    \n",
    "MapReduce"
   ]
  },
  {
   "cell_type": "code",
   "execution_count": 31,
   "metadata": {},
   "outputs": [],
   "source": [
    "\n",
    "# Collections\n",
    "# https://docs.python.org/3.3/library/collections.html\n"
   ]
  },
  {
   "cell_type": "code",
   "execution_count": 13,
   "metadata": {},
   "outputs": [],
   "source": [
    "from collections import Counter"
   ]
  },
  {
   "cell_type": "code",
   "execution_count": 26,
   "metadata": {},
   "outputs": [
    {
     "data": {
      "text/plain": [
       "{'A': 21, 'B': 16, 'C': 5, 'D': 3, 'E': 2, 'F': 2}"
      ]
     },
     "execution_count": 26,
     "metadata": {},
     "output_type": "execute_result"
    }
   ],
   "source": [
    "# MapReduce com Counter\n",
    "\n",
    "lista_c = ['A','A','A','A','A','A','A','A','A','A','A','A','A','A','A','A','A','A','A','A','A','B','B','B','B','B',\n",
    "           'B','B','B','B','B','B','B','B','B','B','B','C','C','C','D','D','C','C','D','E','E','F','F']\n",
    "\n",
    "dict(Counter(lista_c))"
   ]
  },
  {
   "cell_type": "code",
   "execution_count": 27,
   "metadata": {},
   "outputs": [
    {
     "data": {
      "text/plain": [
       "[('A', 21), ('B', 16), ('C', 5)]"
      ]
     },
     "execution_count": 27,
     "metadata": {},
     "output_type": "execute_result"
    }
   ],
   "source": [
    "Counter(lista_c).most_common(3)"
   ]
  },
  {
   "cell_type": "code",
   "execution_count": 28,
   "metadata": {},
   "outputs": [
    {
     "data": {
      "text/plain": [
       "['A', 'A', 'A', 'A', 'B', 'B']"
      ]
     },
     "execution_count": 28,
     "metadata": {},
     "output_type": "execute_result"
    }
   ],
   "source": [
    "c = Counter(A=4, B=2, C=0, D=-2)\n",
    "list(c.elements())"
   ]
  },
  {
   "cell_type": "code",
   "execution_count": 30,
   "metadata": {},
   "outputs": [
    {
     "data": {
      "text/plain": [
       "Counter({'A': 3, 'B': 0, 'C': -3, 'D': -6})"
      ]
     },
     "execution_count": 30,
     "metadata": {},
     "output_type": "execute_result"
    }
   ],
   "source": [
    "c = Counter(A=4, B=2, C=0, D=-2)\n",
    "d = Counter(A=1, B=2, C=3, D=4)\n",
    "c.subtract(d)\n",
    "c"
   ]
  },
  {
   "cell_type": "code",
   "execution_count": null,
   "metadata": {},
   "outputs": [],
   "source": [
    "\n",
    "# Dicionários\n",
    "\n",
    "# Todos os tipos de dados compostos que estudamos em detalhes até agora — strings, listas e tuplas — são coleções sequenciais. \n",
    "# Isto significa que os itens na coleção estão ordenados da esquerda para a direita e eles usam números inteiros como índices \n",
    "# para acessar os valores que eles contêm.\n",
    "# Dicionário é um tipo diferente de coleção. Ele é um tipo de mapeamento nativo do Python. Um mapa é uma coleção associativa \n",
    "# desordenada. A associação, ou mapeamento, é feita a partir de uma chave, que pode ser qualquer tipo imutável, para um valor, \n",
    "# que pode ser qualquer objeto de dados do Python.\n",
    "# Não importa em que ordem escrevemos os pares. Os valores em um dicionário são acessados com chaves, não com índices, por isso \n",
    "# não há necessidade de se preocupar com a ordenação.\n"
   ]
  },
  {
   "cell_type": "code",
   "execution_count": 38,
   "metadata": {},
   "outputs": [
    {
     "name": "stdout",
     "output_type": "stream",
     "text": [
      "{'A': 1, 'B': 2, 'C': 3}\n",
      "{'A': 1, 'B': 2, 'C': 3}\n",
      "{'A': 1, 'B': 2, 'C': 3}\n"
     ]
    }
   ],
   "source": [
    "dic = {'A':1,'B':2,'C':3}\n",
    "print(dic)\n",
    "dic = dict([('A', 1), ('B', 2), ('C', 3)])\n",
    "print(dic)\n",
    "dic = dict(zip(['A','B','C'],[1,2,3]))\n",
    "print(dic)"
   ]
  },
  {
   "cell_type": "code",
   "execution_count": 4,
   "metadata": {},
   "outputs": [
    {
     "name": "stdout",
     "output_type": "stream",
     "text": [
      "dict_keys(['A', 'B', 'C'])\n",
      "dict_values([1, 2, 3])\n",
      "dict_items([('A', 1), ('B', 2), ('C', 3)])\n"
     ]
    }
   ],
   "source": [
    "print(dic.keys())\n",
    "print(dic.values())\n",
    "print(dic.items())"
   ]
  },
  {
   "cell_type": "code",
   "execution_count": 9,
   "metadata": {},
   "outputs": [
    {
     "name": "stdout",
     "output_type": "stream",
     "text": [
      "1\n"
     ]
    }
   ],
   "source": [
    "print(dic.get('A'))"
   ]
  },
  {
   "cell_type": "code",
   "execution_count": 10,
   "metadata": {},
   "outputs": [
    {
     "name": "stdout",
     "output_type": "stream",
     "text": [
      "None\n"
     ]
    }
   ],
   "source": [
    "print(dic.get('K'))"
   ]
  },
  {
   "cell_type": "code",
   "execution_count": 11,
   "metadata": {},
   "outputs": [
    {
     "name": "stdout",
     "output_type": "stream",
     "text": [
      "Não existe valor para esta chave\n"
     ]
    }
   ],
   "source": [
    "print(dic.get('K','Não existe valor para esta chave'))"
   ]
  },
  {
   "cell_type": "code",
   "execution_count": 36,
   "metadata": {},
   "outputs": [
    {
     "name": "stdout",
     "output_type": "stream",
     "text": [
      "{'A': 1, 'B': 2, 'C': 3}\n",
      "{'A': 1, 'B': 2, 'C': 3, 'D': 4}\n",
      "{'A': 1, 'B': 2, 'C': 3}\n",
      "{'A': 1, 'B': 2, 'C': 3, 'D': 4}\n",
      "{'A': 1, 'B': 2, 'C': 3}\n",
      "{'A': 1, 'B': 2, 'C': 3, 'D': 4}\n",
      "{'A': 1, 'B': 2, 'C': 3, 'D': 5}\n",
      "{'A': 1, 'B': 2, 'C': 3, 'D': 5, 'E': 5}\n",
      "('E', 5)\n",
      "{'A': 1, 'B': 2, 'C': 3, 'D': 5}\n"
     ]
    }
   ],
   "source": [
    "dic = {'A':1,'B':2,'C':3}\n",
    "print(dic)\n",
    "dic['D'] = 4\n",
    "print(dic)\n",
    "dic.pop('D')\n",
    "print(dic)\n",
    "dic.update({'D':4})\n",
    "print(dic)\n",
    "del dic['D']\n",
    "print(dic)\n",
    "dic.update(D = 4)\n",
    "print(dic)\n",
    "dic.update(D = 5)\n",
    "print(dic)\n",
    "dic.update(E = 5)\n",
    "print(dic)\n",
    "print(dic.popitem()) # removes the item that was last inserted into the dictionary. The removed item is the return value of the \n",
    "                     # popitem() method, as a tuple\n",
    "print(dic)"
   ]
  },
  {
   "cell_type": "code",
   "execution_count": 23,
   "metadata": {},
   "outputs": [
    {
     "name": "stdout",
     "output_type": "stream",
     "text": [
      "{'A': 1, 'B': 2, 'C': 3, 'D': 5}\n"
     ]
    }
   ],
   "source": [
    "dic_copia = dic.copy()\n",
    "print(dic_copia)"
   ]
  },
  {
   "cell_type": "code",
   "execution_count": 24,
   "metadata": {},
   "outputs": [
    {
     "name": "stdout",
     "output_type": "stream",
     "text": [
      "{}\n"
     ]
    }
   ],
   "source": [
    "dic_copia.clear()\n",
    "print(dic_copia)"
   ]
  },
  {
   "cell_type": "code",
   "execution_count": 40,
   "metadata": {},
   "outputs": [
    {
     "name": "stdout",
     "output_type": "stream",
     "text": [
      "{'A': 1, 'B': 1, 'C': 1}\n"
     ]
    }
   ],
   "source": [
    "dic = dict.fromkeys(('A','B','C'),1) # returns a dictionary with the specified keys and values.\n",
    "print(dic)"
   ]
  },
  {
   "cell_type": "code",
   "execution_count": null,
   "metadata": {},
   "outputs": [],
   "source": []
  }
 ],
 "metadata": {
  "kernelspec": {
   "display_name": "Python 3",
   "language": "python",
   "name": "python3"
  },
  "language_info": {
   "codemirror_mode": {
    "name": "ipython",
    "version": 3
   },
   "file_extension": ".py",
   "mimetype": "text/x-python",
   "name": "python",
   "nbconvert_exporter": "python",
   "pygments_lexer": "ipython3",
   "version": "3.7.3"
  }
 },
 "nbformat": 4,
 "nbformat_minor": 2
}
