{
 "cells": [
  {
   "cell_type": "markdown",
   "metadata": {},
   "source": [
    "Banco de Dados"
   ]
  },
  {
   "cell_type": "code",
   "execution_count": null,
   "metadata": {},
   "outputs": [],
   "source": [
    "\n",
    "# SQLite é um banco de dados simples, um único arquivo multiplataforma, e que já é instalado junto com o Anaconda.\n",
    "# É amplamente utilizado por navegadores e smartfones.\n",
    "# Não requer um processo ou serviço sendo executado em um servidor.\n",
    "# Apropriado para:\n",
    "# 1. Dispositivos embarcados (internet das coisas)\n",
    "# 2. Websites com tráfego médio\n",
    "# 3. Análise de dados\n",
    "# 4. Cache local para dados de RDBMS\n",
    "# 5. Stage para manipulacao de dados por programas\n",
    "\n",
    "# www.sqlite.org/docs.html\n",
    "# www.sqlitebrowser.org\n",
    "# www.nosql-database.org\n",
    "# www.db-engines.com\n"
   ]
  },
  {
   "cell_type": "code",
   "execution_count": null,
   "metadata": {},
   "outputs": [],
   "source": []
  }
 ],
 "metadata": {
  "kernelspec": {
   "display_name": "Python 3",
   "language": "python",
   "name": "python3"
  },
  "language_info": {
   "codemirror_mode": {
    "name": "ipython",
    "version": 3
   },
   "file_extension": ".py",
   "mimetype": "text/x-python",
   "name": "python",
   "nbconvert_exporter": "python",
   "pygments_lexer": "ipython3",
   "version": "3.7.3"
  }
 },
 "nbformat": 4,
 "nbformat_minor": 2
}
