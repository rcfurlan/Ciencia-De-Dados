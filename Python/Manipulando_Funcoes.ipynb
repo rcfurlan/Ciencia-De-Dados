{
 "cells": [
  {
   "cell_type": "markdown",
   "metadata": {},
   "source": [
    "\n",
    "Funções\n"
   ]
  },
  {
   "cell_type": "code",
   "execution_count": 1,
   "metadata": {},
   "outputs": [],
   "source": [
    "\n",
    "# Funções são blocos de instrução que podem ser invocados de qualquer parte do nosso código. Toda função, por definição, \n",
    "# possui um nome, pode receber parâmetros e pode retornar valores. Nem toda função receberá parâmetros, da mesma forma, que \n",
    "# nem toda função retornará valores. Tudo dependerá da situação, ainda assim, a estrutura sempre seguirá um padrão e por isso, \n",
    "# é facilmente reconhecido.\n",
    "\n",
    "# def nomeDaFuncao (arg1,arg2,...,argK):\n",
    "#  \"\"\" Comentarios da funcao \"\"\"\n",
    "#  Bloco de codigos\n",
    "#  Retorno da funcao\n"
   ]
  },
  {
   "cell_type": "code",
   "execution_count": 3,
   "metadata": {},
   "outputs": [
    {
     "data": {
      "text/plain": [
       "3"
      ]
     },
     "execution_count": 3,
     "metadata": {},
     "output_type": "execute_result"
    }
   ],
   "source": [
    "def soma(x,y):\n",
    "    return x + y\n",
    "\n",
    "soma(1,2)"
   ]
  },
  {
   "cell_type": "code",
   "execution_count": 5,
   "metadata": {},
   "outputs": [
    {
     "name": "stdout",
     "output_type": "stream",
     "text": [
      "6\n",
      "6\n",
      "3\n",
      "6\n"
     ]
    }
   ],
   "source": [
    "def soma(x,y,z=0):\n",
    "    return x + y + z\n",
    "\n",
    "print(soma(1,2,3))\n",
    "print(soma(1,2,z=3))\n",
    "print(soma(1,2))\n",
    "print(soma(z=3,x=1,y=2))"
   ]
  },
  {
   "cell_type": "code",
   "execution_count": 7,
   "metadata": {},
   "outputs": [
    {
     "name": "stdout",
     "output_type": "stream",
     "text": [
      "(3, ())\n",
      "(6, (3,))\n",
      "(10, (3, 4))\n"
     ]
    }
   ],
   "source": [
    "def soma(x,y,*args):\n",
    "    total = x + y\n",
    "    for n in args:\n",
    "        total += n\n",
    "    return total,args\n",
    "\n",
    "print(soma(1,2))\n",
    "print(soma(1,2,3))\n",
    "print(soma(1,2,3,4))"
   ]
  },
  {
   "cell_type": "code",
   "execution_count": 10,
   "metadata": {},
   "outputs": [
    {
     "name": "stdout",
     "output_type": "stream",
     "text": [
      "(1, 2, 3)\n",
      "1 2 3\n"
     ]
    }
   ],
   "source": [
    "def valores():\n",
    "    return 1,2,3\n",
    "\n",
    "tupla = valores()\n",
    "print(tupla)\n",
    "\n",
    "a,b,c = valores()\n",
    "print(a,b,c)"
   ]
  },
  {
   "cell_type": "code",
   "execution_count": 11,
   "metadata": {},
   "outputs": [
    {
     "data": {
      "text/plain": [
       "<function __main__.emConstrucao()>"
      ]
     },
     "execution_count": 11,
     "metadata": {},
     "output_type": "execute_result"
    }
   ],
   "source": [
    "def emConstrucao():\n",
    "    pass\n",
    "\n",
    "emConstrucao"
   ]
  },
  {
   "cell_type": "code",
   "execution_count": 1,
   "metadata": {},
   "outputs": [
    {
     "data": {
      "text/plain": [
       "['Bruce Wayne', 'Klark Kent', 'Adam West', 'Hall Jordan', 'Peter Park']"
      ]
     },
     "execution_count": 1,
     "metadata": {},
     "output_type": "execute_result"
    }
   ],
   "source": [
    "# Exemplo de função que chama função\n",
    "\n",
    "import re\n",
    "# https://docs.python.org/3/howto/regex.html\n",
    "\n",
    "palavras = ['#bruce wayne','KLARK KENT','@Adam west','HAll jORDAN!!!','#PETER park#']\n",
    "\n",
    "def substitui(palavra):\n",
    "    return re.sub('[!#@]','',palavra)\n",
    "\n",
    "sequencia_limpeza = [substitui,str.lower,str.title]\n",
    "\n",
    "def limpeza(palavra,f):\n",
    "    for funcao in f:\n",
    "        palavra = funcao(palavra)\n",
    "    return palavra\n",
    "\n",
    "palavras_limpas = [limpeza(palavra,sequencia_limpeza) for palavra in palavras]\n",
    "palavras_limpas"
   ]
  },
  {
   "cell_type": "code",
   "execution_count": 15,
   "metadata": {},
   "outputs": [
    {
     "data": {
      "text/plain": [
       "3"
      ]
     },
     "execution_count": 15,
     "metadata": {},
     "output_type": "execute_result"
    }
   ],
   "source": [
    "# Funções Lambda ou anônimas\n",
    "\n",
    "soma = lambda x,y : x + y\n",
    "soma(1,2)"
   ]
  },
  {
   "cell_type": "code",
   "execution_count": null,
   "metadata": {},
   "outputs": [],
   "source": []
  }
 ],
 "metadata": {
  "kernelspec": {
   "display_name": "Python 3",
   "language": "python",
   "name": "python3"
  },
  "language_info": {
   "codemirror_mode": {
    "name": "ipython",
    "version": 3
   },
   "file_extension": ".py",
   "mimetype": "text/x-python",
   "name": "python",
   "nbconvert_exporter": "python",
   "pygments_lexer": "ipython3",
   "version": "3.7.3"
  }
 },
 "nbformat": 4,
 "nbformat_minor": 2
}
