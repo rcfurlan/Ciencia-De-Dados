{
 "cells": [
  {
   "cell_type": "code",
   "execution_count": null,
   "metadata": {},
   "outputs": [],
   "source": [
    "#\n",
    "# https://medium.com/data-hackers/mais-10-bibliotecas-de-data-science-para-python-que-ningu%C3%A9m-te-conta-1a636837a404\n",
    "#"
   ]
  },
  {
   "cell_type": "code",
   "execution_count": null,
   "metadata": {},
   "outputs": [],
   "source": [
    "# Pendulum\n",
    "# Você deixará de odiar operações entre datas em Python\n",
    "\n",
    "# pip install pendulum"
   ]
  },
  {
   "cell_type": "code",
   "execution_count": null,
   "metadata": {},
   "outputs": [],
   "source": []
  },
  {
   "cell_type": "code",
   "execution_count": null,
   "metadata": {},
   "outputs": [],
   "source": [
    "# PyOD\n",
    "# Detecte (quase) qualquer outlier\n",
    "\n",
    "# pip install pyod"
   ]
  },
  {
   "cell_type": "code",
   "execution_count": null,
   "metadata": {},
   "outputs": [],
   "source": []
  },
  {
   "cell_type": "code",
   "execution_count": null,
   "metadata": {},
   "outputs": [],
   "source": [
    "# Qgrid\n",
    "# Filtre, explore e limpe Pandas DataFrame facilmente\n",
    "\n",
    "# pip install qgrid"
   ]
  },
  {
   "cell_type": "code",
   "execution_count": null,
   "metadata": {},
   "outputs": [],
   "source": []
  },
  {
   "cell_type": "code",
   "execution_count": null,
   "metadata": {},
   "outputs": [],
   "source": [
    "# Vaex\n",
    "# Trata-se de uma biblioteca que foi feita para visualizar e explorar datasets tabulares gigantes. \n",
    "# Uma das promessas dela é permitir fazer operações de agregação — média, some, min, … — a uma velocidade de um bilhão de \n",
    "# linhas por segundo.\n",
    "\n",
    "# pip install vaex"
   ]
  },
  {
   "cell_type": "code",
   "execution_count": null,
   "metadata": {},
   "outputs": [],
   "source": []
  },
  {
   "cell_type": "code",
   "execution_count": null,
   "metadata": {},
   "outputs": [],
   "source": [
    "# PyOxidizer\n",
    "# E se você pudesse transformar seu código em um arquivo executável? Criar um seu_app.exe com todo seu código Python, incluindo \n",
    "# as dependências? É isso que o PyOxidizer faz por você.\n",
    "\n"
   ]
  },
  {
   "cell_type": "code",
   "execution_count": null,
   "metadata": {},
   "outputs": [],
   "source": []
  },
  {
   "cell_type": "code",
   "execution_count": null,
   "metadata": {},
   "outputs": [],
   "source": [
    "# FACETS\n",
    "# Visualize datasets de Machine Learning\n",
    "\n"
   ]
  },
  {
   "cell_type": "code",
   "execution_count": null,
   "metadata": {},
   "outputs": [],
   "source": []
  },
  {
   "cell_type": "code",
   "execution_count": null,
   "metadata": {},
   "outputs": [],
   "source": [
    "# Yellowbrick\n",
    "# biblioteca para diagnóstico e visualização de modelos de Machine Learning.\n",
    "\n",
    "# pip install yellowbrick"
   ]
  },
  {
   "cell_type": "code",
   "execution_count": null,
   "metadata": {},
   "outputs": [],
   "source": []
  },
  {
   "cell_type": "code",
   "execution_count": null,
   "metadata": {},
   "outputs": [],
   "source": [
    "# Pandarallel\n",
    "# Paralelismo + Pandas\n",
    "# Se você já teve que fazer uma operação no Pandas que exigia muito da sua CPU, você já testemunhou seu computador chorar. \n",
    "# Pandarallel vem para ajudar nessa operações onde você mete aquele apply() junto com iterrows() só pra ver o parquinho pegar \n",
    "# fogo.\n",
    "\n",
    "# pip install pandarallel"
   ]
  },
  {
   "cell_type": "code",
   "execution_count": null,
   "metadata": {},
   "outputs": [],
   "source": []
  },
  {
   "cell_type": "code",
   "execution_count": null,
   "metadata": {},
   "outputs": [],
   "source": [
    "# Luminol\n",
    "# Biblioteca do Linkedin para detecção de Anomalia\n",
    "\n",
    "# pip install luminol"
   ]
  },
  {
   "cell_type": "code",
   "execution_count": null,
   "metadata": {},
   "outputs": [],
   "source": []
  },
  {
   "cell_type": "code",
   "execution_count": null,
   "metadata": {},
   "outputs": [],
   "source": [
    "# Cookiecutter Data Science\n",
    "# Padronização e estruturação de projetos de Data Science\n",
    "\n",
    "# pip install cookiecutter"
   ]
  },
  {
   "cell_type": "code",
   "execution_count": null,
   "metadata": {},
   "outputs": [],
   "source": []
  },
  {
   "cell_type": "code",
   "execution_count": null,
   "metadata": {},
   "outputs": [],
   "source": [
    "# FUCKIT\n",
    "# Quer que seu código execute SEMPRE, independente se tiver erro ou não?\n",
    "\n"
   ]
  }
 ],
 "metadata": {
  "kernelspec": {
   "display_name": "Python 3",
   "language": "python",
   "name": "python3"
  },
  "language_info": {
   "codemirror_mode": {
    "name": "ipython",
    "version": 3
   },
   "file_extension": ".py",
   "mimetype": "text/x-python",
   "name": "python",
   "nbconvert_exporter": "python",
   "pygments_lexer": "ipython3",
   "version": "3.7.3"
  }
 },
 "nbformat": 4,
 "nbformat_minor": 2
}
