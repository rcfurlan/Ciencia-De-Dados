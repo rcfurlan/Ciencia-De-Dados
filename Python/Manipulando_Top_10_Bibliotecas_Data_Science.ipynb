{
 "cells": [
  {
   "cell_type": "markdown",
   "metadata": {},
   "source": [
    "\n",
    "https://medium.com/data-hackers/mais-10-bibliotecas-de-data-science-para-python-que-ningu%C3%A9m-te-conta-1a636837a404\n"
   ]
  },
  {
   "cell_type": "markdown",
   "metadata": {},
   "source": [
    " Pendulum\n",
    " \n",
    " Você deixará de odiar operações entre datas em Python\n",
    "\n",
    " pip install pendulum"
   ]
  },
  {
   "cell_type": "code",
   "execution_count": null,
   "metadata": {},
   "outputs": [],
   "source": []
  },
  {
   "cell_type": "markdown",
   "metadata": {},
   "source": [
    " PyOD\n",
    " \n",
    " Detecte (quase) qualquer outlier\n",
    "\n",
    " pip install pyod"
   ]
  },
  {
   "cell_type": "code",
   "execution_count": null,
   "metadata": {},
   "outputs": [],
   "source": []
  },
  {
   "cell_type": "markdown",
   "metadata": {},
   "source": [
    " Qgrid\n",
    " \n",
    " Filtre, explore e limpe Pandas DataFrame facilmente\n",
    "\n",
    " pip install qgrid"
   ]
  },
  {
   "cell_type": "code",
   "execution_count": null,
   "metadata": {},
   "outputs": [],
   "source": []
  },
  {
   "cell_type": "markdown",
   "metadata": {},
   "source": [
    " Vaex\n",
    " \n",
    " Trata-se de uma biblioteca que foi feita para visualizar e explorar datasets tabulares gigantes. \n",
    " Uma das promessas dela é permitir fazer operações de agregação — média, some, min, … — a uma velocidade de um bilhão de \n",
    " linhas por segundo.\n",
    "\n",
    " pip install vaex"
   ]
  },
  {
   "cell_type": "code",
   "execution_count": null,
   "metadata": {},
   "outputs": [],
   "source": []
  },
  {
   "cell_type": "markdown",
   "metadata": {},
   "source": [
    " PyOxidizer\n",
    " \n",
    " E se você pudesse transformar seu código em um arquivo executável? Criar um seu_app.exe com todo seu código Python, incluindo \n",
    " as dependências? É isso que o PyOxidizer faz por você.\n",
    "\n"
   ]
  },
  {
   "cell_type": "code",
   "execution_count": null,
   "metadata": {},
   "outputs": [],
   "source": []
  },
  {
   "cell_type": "markdown",
   "metadata": {},
   "source": [
    " FACETS\n",
    " \n",
    " Visualize datasets de Machine Learning\n"
   ]
  },
  {
   "cell_type": "code",
   "execution_count": null,
   "metadata": {},
   "outputs": [],
   "source": []
  },
  {
   "cell_type": "markdown",
   "metadata": {},
   "source": [
    " Yellowbrick\n",
    " \n",
    " biblioteca para diagnóstico e visualização de modelos de Machine Learning.\n",
    "\n",
    " pip install yellowbrick"
   ]
  },
  {
   "cell_type": "code",
   "execution_count": null,
   "metadata": {},
   "outputs": [],
   "source": []
  },
  {
   "cell_type": "markdown",
   "metadata": {},
   "source": [
    " Pandarallel\n",
    "    \n",
    " Paralelismo + Pandas\n",
    "\n",
    " Se você já teve que fazer uma operação no Pandas que exigia muito da sua CPU, você já testemunhou seu computador chorar. \n",
    " Pandarallel vem para ajudar nessa operações onde você mete aquele apply() junto com iterrows() só pra ver o parquinho pegar \n",
    " fogo.\n",
    "\n",
    " pip install pandarallel"
   ]
  },
  {
   "cell_type": "code",
   "execution_count": null,
   "metadata": {},
   "outputs": [],
   "source": []
  },
  {
   "cell_type": "markdown",
   "metadata": {},
   "source": [
    " Luminol\n",
    "\n",
    " Biblioteca do Linkedin para detecção de Anomalia\n",
    "\n",
    " pip install luminol"
   ]
  },
  {
   "cell_type": "code",
   "execution_count": null,
   "metadata": {},
   "outputs": [],
   "source": []
  },
  {
   "cell_type": "markdown",
   "metadata": {},
   "source": [
    " Cookiecutter Data Science\n",
    "\n",
    " Padronização e estruturação de projetos de Data Science\n",
    "\n",
    " pip install cookiecutter"
   ]
  },
  {
   "cell_type": "code",
   "execution_count": null,
   "metadata": {},
   "outputs": [],
   "source": []
  },
  {
   "cell_type": "markdown",
   "metadata": {},
   "source": [
    "Folium\n",
    "\n",
    "Visualização dos dados em mapas\n",
    "\n",
    "pip install folium\n",
    "\n",
    "https://python-visualization.github.io/folium/"
   ]
  },
  {
   "cell_type": "code",
   "execution_count": null,
   "metadata": {},
   "outputs": [],
   "source": []
  },
  {
   "cell_type": "markdown",
   "metadata": {},
   "source": [
    " FUCKIT\n",
    "\n",
    " Quer que seu código execute SEMPRE, independente se tiver erro ou não?\n",
    "\n"
   ]
  },
  {
   "cell_type": "code",
   "execution_count": null,
   "metadata": {},
   "outputs": [],
   "source": []
  }
 ],
 "metadata": {
  "kernelspec": {
   "display_name": "Python 3",
   "language": "python",
   "name": "python3"
  },
  "language_info": {
   "codemirror_mode": {
    "name": "ipython",
    "version": 3
   },
   "file_extension": ".py",
   "mimetype": "text/x-python",
   "name": "python",
   "nbconvert_exporter": "python",
   "pygments_lexer": "ipython3",
   "version": "3.7.3"
  }
 },
 "nbformat": 4,
 "nbformat_minor": 2
}
