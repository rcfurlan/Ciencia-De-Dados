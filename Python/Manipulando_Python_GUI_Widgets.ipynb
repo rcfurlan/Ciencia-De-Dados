{
 "cells": [
  {
   "cell_type": "code",
   "execution_count": 2,
   "metadata": {},
   "outputs": [],
   "source": [
    "# +++++++++++++++++++++++++++++++++++++++++++++++\n",
    "#\n",
    "# https://ipywidgets.readthedocs.io/en/latest/\n",
    "#\n",
    "# +++++++++++++++++++++++++++++++++++++++++++++++\n",
    "\n",
    "import ipywidgets as wg\n",
    "from IPython.display import display"
   ]
  },
  {
   "cell_type": "code",
   "execution_count": 3,
   "metadata": {},
   "outputs": [
    {
     "data": {
      "application/vnd.jupyter.widget-view+json": {
       "model_id": "4b2336cf47f34aaabc3c5c6a41fbea04",
       "version_major": 2,
       "version_minor": 0
      },
      "text/plain": [
       "Dropdown(description='Cor: ', options=('Amarelo', 'Azul', 'Vermelho'), value=None)"
      ]
     },
     "metadata": {},
     "output_type": "display_data"
    }
   ],
   "source": [
    "# Dropdown\n",
    "\n",
    "cor = wg.Dropdown(\n",
    "          options=['Amarelo', 'Azul', 'Vermelho'],\n",
    "          value=None,\n",
    "          description='Cor: ',\n",
    "          disabled=False,\n",
    ")\n",
    "display(cor)"
   ]
  },
  {
   "cell_type": "code",
   "execution_count": 4,
   "metadata": {},
   "outputs": [
    {
     "data": {
      "text/plain": [
       "'Amarelo'"
      ]
     },
     "execution_count": 4,
     "metadata": {},
     "output_type": "execute_result"
    }
   ],
   "source": [
    "cor.value"
   ]
  },
  {
   "cell_type": "code",
   "execution_count": 5,
   "metadata": {},
   "outputs": [
    {
     "data": {
      "application/vnd.jupyter.widget-view+json": {
       "model_id": "2f25b0e2506e46f396aa067477c3c2c7",
       "version_major": 2,
       "version_minor": 0
      },
      "text/plain": [
       "Dropdown(description='Cor: ', options=(('Amarelo', 1), ('Azul', 2), ('Vermelho', 3)), value=None)"
      ]
     },
     "metadata": {},
     "output_type": "display_data"
    }
   ],
   "source": [
    "cor = wg.Dropdown(\n",
    "          options=[('Amarelo', 1), ('Azul', 2), ('Vermelho', 3)],\n",
    "          value=None,\n",
    "          description='Cor: ',\n",
    "          disabled=False,\n",
    ")\n",
    "display(cor)"
   ]
  },
  {
   "cell_type": "code",
   "execution_count": 7,
   "metadata": {},
   "outputs": [
    {
     "data": {
      "text/plain": [
       "3"
      ]
     },
     "execution_count": 7,
     "metadata": {},
     "output_type": "execute_result"
    }
   ],
   "source": [
    "cor.value"
   ]
  },
  {
   "cell_type": "code",
   "execution_count": 8,
   "metadata": {},
   "outputs": [
    {
     "data": {
      "application/vnd.jupyter.widget-view+json": {
       "model_id": "ffa2a9a4e1474c0089a69b0f8034ea7e",
       "version_major": 2,
       "version_minor": 0
      },
      "text/plain": [
       "RadioButtons(description='Pizzas: ', options=('Peperoni', 'Portuguesa', 'Dois Queijos'), value=None)"
      ]
     },
     "metadata": {},
     "output_type": "display_data"
    }
   ],
   "source": [
    "# RadioButtons\n",
    "\n",
    "pizza = wg.RadioButtons(\n",
    "            options=['Peperoni', 'Portuguesa', 'Dois Queijos'],\n",
    "            value=None,\n",
    "            description='Pizzas: ',\n",
    "            disabled=False\n",
    ")\n",
    "display(pizza)"
   ]
  },
  {
   "cell_type": "code",
   "execution_count": 9,
   "metadata": {},
   "outputs": [
    {
     "data": {
      "text/plain": [
       "'Peperoni'"
      ]
     },
     "execution_count": 9,
     "metadata": {},
     "output_type": "execute_result"
    }
   ],
   "source": [
    "pizza.value"
   ]
  },
  {
   "cell_type": "code",
   "execution_count": 10,
   "metadata": {},
   "outputs": [
    {
     "data": {
      "application/vnd.jupyter.widget-view+json": {
       "model_id": "7ff1f144fd544fcd85b54319b75181fb",
       "version_major": 2,
       "version_minor": 0
      },
      "text/plain": [
       "FileUpload(value={}, description='Upload')"
      ]
     },
     "metadata": {},
     "output_type": "display_data"
    }
   ],
   "source": [
    "# File Upload\n",
    "\n",
    "arquivo = wg.FileUpload(\n",
    "                accept='',  # Accepted file extension e.g. '.txt', '.pdf', 'image/*', 'image/*,.pdf'\n",
    "                multiple=False  # True to accept multiple files upload else False\n",
    ")\n",
    "display(arquivo)"
   ]
  },
  {
   "cell_type": "code",
   "execution_count": 9,
   "metadata": {},
   "outputs": [
    {
     "data": {
      "text/plain": [
       "{'mapper_conta_palavras_hadoop_streaming.py': {'metadata': {'name': 'mapper_conta_palavras_hadoop_streaming.py',\n",
       "   'type': '',\n",
       "   'size': 1743,\n",
       "   'lastModified': 1569116196133},\n",
       "  'content': b'\\r\\n\"\"\"\\r\\nEntrada : A A A D E C C B E E E E E E E E C A B B B D B C A E D\\r\\n\\r\\nComando Hadoop-Streaming\\r\\n$ hadoop jar /usr/hdp/current/hadoop-mapreduce-client/hadoop-streaming.jar \\r\\n -file /home/maria_dev/hadoop_streaming/mapper_hs.py    (envia o arquivo a cada n\\xc3\\xb3 do cluster antes do processamento, caso contrario \\xc3\\xa9 assumido que j\\xc3\\xa1 est\\xc3\\xa3o l\\xc3\\xa1)\\r\\n -file /home/maria_dev/hadoop_streaming/reducer_hs.py   (envia o arquivo a cada n\\xc3\\xb3 do cluster antes do processamento, caso contrario \\xc3\\xa9 assumido que j\\xc3\\xa1 est\\xc3\\xa3o l\\xc3\\xa1)\\r\\n -mapper \"python mapper_hs.py\" \\r\\n -reducer \"python reducer_hs.py\" \\r\\n -input entrada_ContaPalavras.txt                       (fazer o upload do arquivo para o HDFS antes)\\r\\n -output ContaPalavras                                  (gera saida no HDFS)\\r\\n \\r\\nou\\r\\n\\r\\n$ hadoop jar /usr/hdp/current/hadoop-mapreduce-client/hadoop-streaming.jar \\r\\n -files /home/maria_dev/hadoop_streaming/mapper_hs.py,/home/maria_dev/hadoop_streaming/reducer_hs.py   (envia o arquivo a cada n\\xc3\\xb3 do cluster antes do processamento, caso contrario \\xc3\\xa9 assumido que j\\xc3\\xa1 est\\xc3\\xa3o l\\xc3\\xa1)\\r\\n -mapper \"python mapper_hs.py\" \\r\\n -reducer \"python reducer_hs.py\" \\r\\n -input entrada_ContaPalavras.txt                       (fazer o upload do arquivo para o HDFS antes)\\r\\n -output ContaPalavras                                  (gera saida no HDFS) \\r\\n \\r\\n[maria_dev@sandbox-hdp ~]$ hdfs dfs -cat /user/maria_dev/ContaPalavras/part*    (visualizar o resultado)\\r\\nA       5\\r\\nB       5\\r\\nC       4\\r\\nD       3\\r\\nE       10\\r\\n\"\"\"\\r\\n\\r\\n\\r\\n#!/usr/bin/env python\\r\\n\\r\\nimport sys\\r\\n\\r\\nif __name__ == \\'__main__\\':\\r\\n\\r\\n   # Regra de mapeamento e transformacao\\r\\n   for linha in sys.stdin:\\r\\n      for palavra in linha.split():\\r\\n         sys.stdout.write(\\'{}\\\\t1\\\\n\\'.format(palavra))\\r\\n\\r\\n\\r\\n\\t\\t \\r\\n\\t\\t \\r\\n\\t\\t \\r\\n\\t\\t \\r\\n\\t\\t \\r\\n'}}"
      ]
     },
     "execution_count": 9,
     "metadata": {},
     "output_type": "execute_result"
    }
   ],
   "source": [
    "arquivo.value"
   ]
  },
  {
   "cell_type": "code",
   "execution_count": 11,
   "metadata": {},
   "outputs": [
    {
     "data": {
      "application/vnd.jupyter.widget-view+json": {
       "model_id": "fad1c47b291b4c98b27de64e41ec2b51",
       "version_major": 2,
       "version_minor": 0
      },
      "text/plain": [
       "IntProgress(value=0, description='Loading:')"
      ]
     },
     "metadata": {},
     "output_type": "display_data"
    }
   ],
   "source": [
    "# IntProgress\n",
    "\n",
    "import time\n",
    "progresso = wg.IntProgress(\n",
    "    value=None,\n",
    "    min=0,\n",
    "    max=100,\n",
    "    step=1,\n",
    "    description='Loading:',\n",
    "    bar_style='', # 'success', 'info', 'warning', 'danger' or ''\n",
    "    orientation='horizontal'\n",
    ")\n",
    "display(progresso)\n",
    "\n",
    "for i in range(100):\n",
    "    progresso.value = i\n",
    "    time.sleep(0.1)\n"
   ]
  },
  {
   "cell_type": "code",
   "execution_count": 12,
   "metadata": {},
   "outputs": [
    {
     "data": {
      "application/vnd.jupyter.widget-view+json": {
       "model_id": "baf584c6ef054b029adbbba5592c8156",
       "version_major": 2,
       "version_minor": 0
      },
      "text/plain": [
       "FloatSlider(value=0.0)"
      ]
     },
     "metadata": {},
     "output_type": "display_data"
    },
    {
     "data": {
      "application/vnd.jupyter.widget-view+json": {
       "model_id": "74e6c7ee259342c691d36725fb039dc2",
       "version_major": 2,
       "version_minor": 0
      },
      "text/plain": [
       "FloatText(value=0.0)"
      ]
     },
     "metadata": {},
     "output_type": "display_data"
    }
   ],
   "source": [
    "# FloatSlider\n",
    "\n",
    "a = wg.FloatSlider()\n",
    "b = wg.FloatText()\n",
    "display(a,b)\n",
    "link = wg.jslink((a,'value'),(b,'value'))"
   ]
  },
  {
   "cell_type": "code",
   "execution_count": 14,
   "metadata": {},
   "outputs": [],
   "source": [
    "# Plot\n",
    "\n",
    "import numpy as np\n",
    "%matplotlib inline\n",
    "import matplotlib.pyplot as plt \n",
    "\n",
    "def meuPlot(a,b,c):\n",
    "    x = np.linspace(-10,10,30) # Gera 30 valores aleatorios entre -10 e 10\n",
    "    y = a * x **2 + b * x + c\n",
    "    plt.plot(x,y,'r--')\n",
    "    plt.ylabel('y(x)')\n",
    "    plt.xlabel('x')\n",
    "    plt.ylim([-80,80])\n",
    "    plt.xlim([-10,10])\n",
    "    plt.grid(True)"
   ]
  },
  {
   "cell_type": "code",
   "execution_count": 16,
   "metadata": {},
   "outputs": [
    {
     "data": {
      "application/vnd.jupyter.widget-view+json": {
       "model_id": "3230b9e5e26240ef803b911cda83c62c",
       "version_major": 2,
       "version_minor": 0
      },
      "text/plain": [
       "interactive(children=(FloatSlider(value=-5.0, description='a', max=10.0, min=-10.0), FloatSlider(value=0.0, de…"
      ]
     },
     "metadata": {},
     "output_type": "display_data"
    },
    {
     "data": {
      "text/plain": [
       "<function __main__.meuPlot(a, b, c)>"
      ]
     },
     "execution_count": 16,
     "metadata": {},
     "output_type": "execute_result"
    }
   ],
   "source": [
    "a_slide = wg.FloatSlider(value=-5.0,min=-10.0,max=10.0,step=0.1)\n",
    "b_slide = wg.FloatSlider(value=0.0,min=-10.0,max=10.0,step=0.1)\n",
    "c_slide = wg.FloatSlider(value=0.0,min=-80.0,max=80.0,step=0.1)\n",
    "wg.interact(meuPlot, a=a_slide, b=b_slide, c=c_slide)"
   ]
  },
  {
   "cell_type": "markdown",
   "metadata": {},
   "source": []
  },
  {
   "cell_type": "code",
   "execution_count": null,
   "metadata": {},
   "outputs": [],
   "source": []
  }
 ],
 "metadata": {
  "kernelspec": {
   "display_name": "Python 3",
   "language": "python",
   "name": "python3"
  },
  "language_info": {
   "codemirror_mode": {
    "name": "ipython",
    "version": 3
   },
   "file_extension": ".py",
   "mimetype": "text/x-python",
   "name": "python",
   "nbconvert_exporter": "python",
   "pygments_lexer": "ipython3",
   "version": "3.7.3"
  }
 },
 "nbformat": 4,
 "nbformat_minor": 2
}
